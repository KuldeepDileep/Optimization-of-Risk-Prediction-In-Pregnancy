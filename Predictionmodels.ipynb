{
  "nbformat": 4,
  "nbformat_minor": 0,
  "metadata": {
    "colab": {
      "name": "CTG.ipynb",
      "provenance": [],
      "collapsed_sections": [],
      "toc_visible": true
    },
    "kernelspec": {
      "name": "python3",
      "display_name": "Python 3"
    }
  },
  "cells": [
    {
      "cell_type": "code",
      "metadata": {
        "id": "WracyHMQvxsV",
        "colab_type": "code",
        "outputId": "cd451dc9-133e-43ba-8b92-42f75facbe2d",
        "colab": {
          "base_uri": "https://localhost:8080/",
          "height": 693
        }
      },
      "source": [
        "!pip install --upgrade tensorflow"
      ],
      "execution_count": 0,
      "outputs": [
        {
          "output_type": "stream",
          "text": [
            "Requirement already up-to-date: tensorflow in /usr/local/lib/python3.6/dist-packages (2.2.0)\n",
            "Requirement already satisfied, skipping upgrade: protobuf>=3.8.0 in /usr/local/lib/python3.6/dist-packages (from tensorflow) (3.10.0)\n",
            "Requirement already satisfied, skipping upgrade: termcolor>=1.1.0 in /usr/local/lib/python3.6/dist-packages (from tensorflow) (1.1.0)\n",
            "Requirement already satisfied, skipping upgrade: google-pasta>=0.1.8 in /usr/local/lib/python3.6/dist-packages (from tensorflow) (0.2.0)\n",
            "Requirement already satisfied, skipping upgrade: tensorboard<2.3.0,>=2.2.0 in /usr/local/lib/python3.6/dist-packages (from tensorflow) (2.2.1)\n",
            "Requirement already satisfied, skipping upgrade: tensorflow-estimator<2.3.0,>=2.2.0 in /usr/local/lib/python3.6/dist-packages (from tensorflow) (2.2.0)\n",
            "Requirement already satisfied, skipping upgrade: keras-preprocessing>=1.1.0 in /usr/local/lib/python3.6/dist-packages (from tensorflow) (1.1.0)\n",
            "Requirement already satisfied, skipping upgrade: absl-py>=0.7.0 in /usr/local/lib/python3.6/dist-packages (from tensorflow) (0.9.0)\n",
            "Requirement already satisfied, skipping upgrade: wheel>=0.26; python_version >= \"3\" in /usr/local/lib/python3.6/dist-packages (from tensorflow) (0.34.2)\n",
            "Requirement already satisfied, skipping upgrade: gast==0.3.3 in /usr/local/lib/python3.6/dist-packages (from tensorflow) (0.3.3)\n",
            "Requirement already satisfied, skipping upgrade: opt-einsum>=2.3.2 in /usr/local/lib/python3.6/dist-packages (from tensorflow) (3.2.1)\n",
            "Requirement already satisfied, skipping upgrade: wrapt>=1.11.1 in /usr/local/lib/python3.6/dist-packages (from tensorflow) (1.12.1)\n",
            "Requirement already satisfied, skipping upgrade: six>=1.12.0 in /usr/local/lib/python3.6/dist-packages (from tensorflow) (1.12.0)\n",
            "Requirement already satisfied, skipping upgrade: h5py<2.11.0,>=2.10.0 in /usr/local/lib/python3.6/dist-packages (from tensorflow) (2.10.0)\n",
            "Requirement already satisfied, skipping upgrade: scipy==1.4.1; python_version >= \"3\" in /usr/local/lib/python3.6/dist-packages (from tensorflow) (1.4.1)\n",
            "Requirement already satisfied, skipping upgrade: astunparse==1.6.3 in /usr/local/lib/python3.6/dist-packages (from tensorflow) (1.6.3)\n",
            "Requirement already satisfied, skipping upgrade: grpcio>=1.8.6 in /usr/local/lib/python3.6/dist-packages (from tensorflow) (1.28.1)\n",
            "Requirement already satisfied, skipping upgrade: numpy<2.0,>=1.16.0 in /usr/local/lib/python3.6/dist-packages (from tensorflow) (1.18.4)\n",
            "Requirement already satisfied, skipping upgrade: setuptools in /usr/local/lib/python3.6/dist-packages (from protobuf>=3.8.0->tensorflow) (46.1.3)\n",
            "Requirement already satisfied, skipping upgrade: google-auth<2,>=1.6.3 in /usr/local/lib/python3.6/dist-packages (from tensorboard<2.3.0,>=2.2.0->tensorflow) (1.7.2)\n",
            "Requirement already satisfied, skipping upgrade: tensorboard-plugin-wit>=1.6.0 in /usr/local/lib/python3.6/dist-packages (from tensorboard<2.3.0,>=2.2.0->tensorflow) (1.6.0.post3)\n",
            "Requirement already satisfied, skipping upgrade: requests<3,>=2.21.0 in /usr/local/lib/python3.6/dist-packages (from tensorboard<2.3.0,>=2.2.0->tensorflow) (2.23.0)\n",
            "Requirement already satisfied, skipping upgrade: google-auth-oauthlib<0.5,>=0.4.1 in /usr/local/lib/python3.6/dist-packages (from tensorboard<2.3.0,>=2.2.0->tensorflow) (0.4.1)\n",
            "Requirement already satisfied, skipping upgrade: werkzeug>=0.11.15 in /usr/local/lib/python3.6/dist-packages (from tensorboard<2.3.0,>=2.2.0->tensorflow) (1.0.1)\n",
            "Requirement already satisfied, skipping upgrade: markdown>=2.6.8 in /usr/local/lib/python3.6/dist-packages (from tensorboard<2.3.0,>=2.2.0->tensorflow) (3.2.1)\n",
            "Requirement already satisfied, skipping upgrade: rsa<4.1,>=3.1.4 in /usr/local/lib/python3.6/dist-packages (from google-auth<2,>=1.6.3->tensorboard<2.3.0,>=2.2.0->tensorflow) (4.0)\n",
            "Requirement already satisfied, skipping upgrade: pyasn1-modules>=0.2.1 in /usr/local/lib/python3.6/dist-packages (from google-auth<2,>=1.6.3->tensorboard<2.3.0,>=2.2.0->tensorflow) (0.2.8)\n",
            "Requirement already satisfied, skipping upgrade: cachetools<3.2,>=2.0.0 in /usr/local/lib/python3.6/dist-packages (from google-auth<2,>=1.6.3->tensorboard<2.3.0,>=2.2.0->tensorflow) (3.1.1)\n",
            "Requirement already satisfied, skipping upgrade: chardet<4,>=3.0.2 in /usr/local/lib/python3.6/dist-packages (from requests<3,>=2.21.0->tensorboard<2.3.0,>=2.2.0->tensorflow) (3.0.4)\n",
            "Requirement already satisfied, skipping upgrade: urllib3!=1.25.0,!=1.25.1,<1.26,>=1.21.1 in /usr/local/lib/python3.6/dist-packages (from requests<3,>=2.21.0->tensorboard<2.3.0,>=2.2.0->tensorflow) (1.24.3)\n",
            "Requirement already satisfied, skipping upgrade: idna<3,>=2.5 in /usr/local/lib/python3.6/dist-packages (from requests<3,>=2.21.0->tensorboard<2.3.0,>=2.2.0->tensorflow) (2.9)\n",
            "Requirement already satisfied, skipping upgrade: certifi>=2017.4.17 in /usr/local/lib/python3.6/dist-packages (from requests<3,>=2.21.0->tensorboard<2.3.0,>=2.2.0->tensorflow) (2020.4.5.1)\n",
            "Requirement already satisfied, skipping upgrade: requests-oauthlib>=0.7.0 in /usr/local/lib/python3.6/dist-packages (from google-auth-oauthlib<0.5,>=0.4.1->tensorboard<2.3.0,>=2.2.0->tensorflow) (1.3.0)\n",
            "Requirement already satisfied, skipping upgrade: pyasn1>=0.1.3 in /usr/local/lib/python3.6/dist-packages (from rsa<4.1,>=3.1.4->google-auth<2,>=1.6.3->tensorboard<2.3.0,>=2.2.0->tensorflow) (0.4.8)\n",
            "Requirement already satisfied, skipping upgrade: oauthlib>=3.0.0 in /usr/local/lib/python3.6/dist-packages (from requests-oauthlib>=0.7.0->google-auth-oauthlib<0.5,>=0.4.1->tensorboard<2.3.0,>=2.2.0->tensorflow) (3.1.0)\n"
          ],
          "name": "stdout"
        }
      ]
    },
    {
      "cell_type": "code",
      "metadata": {
        "id": "z85mw3AJwf8m",
        "colab_type": "code",
        "outputId": "bf12dd14-8907-466c-9d57-6b25458bc455",
        "colab": {
          "base_uri": "https://localhost:8080/",
          "height": 36
        }
      },
      "source": [
        "import tensorflow \n",
        "from tensorflow.keras.models import Sequential\n",
        "from tensorflow.keras.layers import Dense, Conv2D, MaxPool2D , Flatten, GlobalAveragePooling2D, Activation, Reshape, LeakyReLU, Dropout\n",
        "from tensorflow.keras import optimizers\n",
        "from tensorflow.keras import regularizers\n",
        "from sklearn import svm\n",
        "from sklearn.metrics import accuracy_score\n",
        "import numpy as np\n",
        "import matplotlib.pyplot as plt\n",
        "import pandas as pd\n",
        "import cv2\n",
        "import os\n",
        "\n",
        "from google.colab import drive\n",
        "drive.mount('/content/gdrive')\n",
        "\n",
        "from cluster_data_creation import data_for_cluster, cluster_extract"
      ],
      "execution_count": 0,
      "outputs": [
        {
          "output_type": "stream",
          "text": [
            "Drive already mounted at /content/gdrive; to attempt to forcibly remount, call drive.mount(\"/content/gdrive\", force_remount=True).\n"
          ],
          "name": "stdout"
        }
      ]
    },
    {
      "cell_type": "code",
      "metadata": {
        "id": "PwRWWFzNxyYe",
        "colab_type": "code",
        "colab": {}
      },
      "source": [
        "# load data\n",
        "xls = pd.ExcelFile('gdrive/My Drive/CTG.xls')\n",
        "data = pd.read_excel(xls, 'Data')"
      ],
      "execution_count": 0,
      "outputs": []
    },
    {
      "cell_type": "code",
      "metadata": {
        "id": "hx6YHaoc_U1T",
        "colab_type": "code",
        "outputId": "0d55b504-191d-495d-9dd8-43ec89398782",
        "colab": {
          "base_uri": "https://localhost:8080/",
          "height": 523
        }
      },
      "source": [
        "# strings of feature names for reference\n",
        "# of 21 features\n",
        "feat_num = 21\n",
        "classes = 3\n",
        "feature_names = np.array([data[i][0] for i in range(1, feat_num+classes)])\n",
        "\n",
        "# 2126 examples\n",
        "N = 2126\n",
        "\n",
        "# split into 80: 20 for test: train data\n",
        "train_num = int(N*0.8)\n",
        "\n",
        "# load train data\n",
        "train_data = np.array([[data[i][j] for i in range(1, feat_num+1)]\n",
        "                                 for j in range(1, train_num+1)])\n",
        "# load train labels\n",
        "train_labels = np.array([data[23][i] for i in range(1, train_num+1)])\n",
        "# load test data\n",
        "test_data = np.array([[data[i][j] for i in range(1, feat_num+1)]\n",
        "                                 for j in range(train_num+1, N+1)])\n",
        "# load test labels\n",
        "test_labels = np.array([data[23][i] for i in range(train_num+1, N+1)])\n",
        "\n",
        "# view data for first example\n",
        "print(\"Example 1 features:\\n\")\n",
        "for i in range(feat_num):\n",
        "  print(feature_names[i], ' '*(8-len(feature_names[i])), '|', train_data[0][i], ' '*(6-len(str(train_data[0][i]))))\n",
        "# view labels for first example\n",
        "print(\"\\nLabels:\\n\")\n",
        "print(feature_names[22], ' '*(8-len(feature_names[i])), '|', train_labels[0])"
      ],
      "execution_count": 0,
      "outputs": [
        {
          "output_type": "stream",
          "text": [
            "Example 1 features:\n",
            "\n",
            "LB        | 120.0  \n",
            "AC        | 0.0    \n",
            "FM        | 0.0    \n",
            "UC        | 0.0    \n",
            "DL        | 0.0    \n",
            "DS        | 0.0    \n",
            "DP        | 0.0    \n",
            "ASTV      | 73.0   \n",
            "MSTV      | 0.5    \n",
            "ALTV      | 43.0   \n",
            "MLTV      | 2.4    \n",
            "Width     | 64.0   \n",
            "Min       | 62.0   \n",
            "Max       | 126.0  \n",
            "Nmax      | 2.0    \n",
            "Nzeros    | 0.0    \n",
            "Mode      | 120.0  \n",
            "Mean      | 137.0  \n",
            "Median    | 121.0  \n",
            "Variance  | 73.0   \n",
            "Tendency  | 1.0    \n",
            "\n",
            "Labels:\n",
            "\n",
            "NSP  | 2\n"
          ],
          "name": "stdout"
        }
      ]
    },
    {
      "cell_type": "markdown",
      "metadata": {
        "id": "BAnGT94CLQuA",
        "colab_type": "text"
      },
      "source": [
        "## **Getting rid of outliers:**"
      ]
    },
    {
      "cell_type": "code",
      "metadata": {
        "id": "YO4hd9OwOT4f",
        "colab_type": "code",
        "colab": {}
      },
      "source": [
        "# get all data:\n",
        "data_features = np.array([[data[i][j] for i in range(1, feat_num+1)]\n",
        "                                 for j in range(1, N+1)])\n",
        "data_labels = np.array([data[23][i] for i in range(1, N+1)])"
      ],
      "execution_count": 0,
      "outputs": []
    },
    {
      "cell_type": "markdown",
      "metadata": {
        "id": "ElLwhK04LeqK",
        "colab_type": "text"
      },
      "source": [
        "# **Method 1:** More than 3 Standard Deviations (may or may not work since data may not be in a normal distribution):"
      ]
    },
    {
      "cell_type": "code",
      "metadata": {
        "id": "5A-gYd3ELtmb",
        "colab_type": "code",
        "outputId": "fb9bc57e-50bc-4511-be8d-4902ef144bc8",
        "colab": {
          "base_uri": "https://localhost:8080/",
          "height": 36
        }
      },
      "source": [
        "# original function from: https://gist.github.com/wmlba/89bc2f4556b8ee397ca7a5017b497657#file-outlier_std-py\n",
        "# modified below:\n",
        "\n",
        "# Function to Detection Outlier on one-dimentional datasets.\n",
        "def find_anomalies(data, factor):\n",
        "    # Set upper and lower limit to 'factor' standard deviation\n",
        "    data_std = np.std(data)\n",
        "    data_mean = np.mean(data)\n",
        "    anomaly_cut_off = data_std * factor\n",
        "    \n",
        "    lower_limit  = data_mean - anomaly_cut_off \n",
        "    upper_limit = data_mean + anomaly_cut_off\n",
        "    anomalies = []\n",
        "    idxs = []\n",
        "    i = 0\n",
        "    # Generate outliers\n",
        "    for outlier in data:\n",
        "        if outlier > upper_limit or outlier < lower_limit:\n",
        "            anomalies.append(outlier)\n",
        "            idxs.append(i)\n",
        "        i += 1\n",
        "    return anomalies, idxs\n",
        "\n",
        "clusters = cluster_extract(data_features, data_labels)\n",
        "normals = clusters.get_cluster_from_data(1)\n",
        "\n",
        "idxs = []\n",
        "\n",
        "for i in range(21):\n",
        "  idx = find_anomalies(normals[:,i], 2)[1]\n",
        "  for i in idx:\n",
        "    idxs.append(i)\n",
        "\n",
        "idxs = np.array(idxs)\n",
        "idxs = np.unique(idxs).shape\n",
        "\n",
        "new_data = np.delete(data_features, idxs, axis=0)\n",
        "new_labels = np.delete(data_labels, idxs, axis=0)\n",
        "new_labels = new_labels - 1\n",
        "new_N = new_data.shape[0]\n",
        "new_train = int(new_N*0.8)\n",
        "new_xtrain = new_data[:new_train]/np.max(new_data[:new_train])\n",
        "new_ytrain = new_labels[:new_train]\n",
        "new_xtest = new_data[new_train:]/np.max(new_data[new_train:])\n",
        "new_ytest = new_labels[new_train:]\n",
        "print(new_xtrain.shape, new_xtest.shape, new_ytrain.shape, new_ytest.shape)"
      ],
      "execution_count": 0,
      "outputs": [
        {
          "output_type": "stream",
          "text": [
            "(1700, 21) (425, 21) (1700,) (425,)\n"
          ],
          "name": "stdout"
        }
      ]
    },
    {
      "cell_type": "markdown",
      "metadata": {
        "id": "0k1O-71ZPnpo",
        "colab_type": "text"
      },
      "source": [
        "# **Method 2:** Dbscan (Density Based Spatial Clustering of Applications with Noise)"
      ]
    },
    {
      "cell_type": "code",
      "metadata": {
        "id": "kO4xyJURPtEI",
        "colab_type": "code",
        "colab": {}
      },
      "source": [
        "from sklearn.cluster import DBSCAN\n",
        "\n",
        "elbow = []\n",
        "\n",
        "x, x1 = 26, 80\n",
        "for j in range(x, x1):\n",
        "  # min samples is 176, as counted\n",
        "  clustering = DBSCAN(eps=j, min_samples=176).fit(data_features)\n",
        "\n",
        "  idxs = []\n",
        "  for i in range(len(clustering.labels_)):\n",
        "    if clustering.labels_[i] == -1:\n",
        "      idxs.append(i)\n",
        "  \n",
        "  if len(idxs) > 0:\n",
        "    new_data = np.delete(data_features, idxs, axis=0)\n",
        "    new_labels = np.delete(data_labels, idxs, axis=0)\n",
        "  else:\n",
        "    new_data = data_features\n",
        "\n",
        "  new_labels = new_labels - 1\n",
        "\n",
        "  new_N = new_data.shape[0]\n",
        "  new_train = int(new_N*0.8)\n",
        "\n",
        "  new_xtrain = new_data[:new_train]/np.max(new_data[:new_train])\n",
        "  new_ytrain = new_labels[:new_train]\n",
        "\n",
        "  new_xtest = new_data[new_train:]/np.max(new_data[new_train:])\n",
        "  new_ytest = new_labels[new_train:]\n",
        "\n",
        "  # to check which eps value gives us the best accuracy on an rbf kernel SVM\n",
        "  # on elbow plot\n",
        "  rbf_svc = svm.SVC(kernel='rbf', C=2000, gamma=.09)\n",
        "  rbf_svc.fit(new_xtrain, new_ytrain)\n",
        "  rbf_acc = rbf_svc.predict(new_xtest)\n",
        "  elbow.append(accuracy_score(new_ytest, rbf_acc))"
      ],
      "execution_count": 0,
      "outputs": []
    },
    {
      "cell_type": "code",
      "metadata": {
        "id": "CeW1lhiRe6Aa",
        "colab_type": "code",
        "outputId": "6bfc4109-0bf1-40a9-dbe8-33a618980721",
        "colab": {
          "base_uri": "https://localhost:8080/",
          "height": 300
        }
      },
      "source": [
        "plt.plot([i for i in range(x, x1)], elbow)\n",
        "plt.title(\"Best value for eps\")\n",
        "\n",
        "# best value for eps would be one with highest accuracy on SVM\n",
        "best_eps = x + elbow.index(max(elbow))\n",
        "plt.axvline(x=best_eps, c='orange')\n",
        "plt.legend(['SVM Accuracy', 'Highest Acc'])"
      ],
      "execution_count": 0,
      "outputs": [
        {
          "output_type": "execute_result",
          "data": {
            "text/plain": [
              "<matplotlib.legend.Legend at 0x7f3bdae28550>"
            ]
          },
          "metadata": {
            "tags": []
          },
          "execution_count": 27
        },
        {
          "output_type": "display_data",
          "data": {
            "image/png": "[encoded data removed]",
            "text/plain": [
              "<Figure size 432x288 with 1 Axes>"
            ]
          },
          "metadata": {
            "tags": [],
            "needs_background": "light"
          }
        }
      ]
    },
    {
      "cell_type": "code",
      "metadata": {
        "id": "eijmhdGrrDVT",
        "colab_type": "code",
        "outputId": "54fd08dc-f3af-4724-e16a-0f1381d3e3c7",
        "colab": {
          "base_uri": "https://localhost:8080/",
          "height": 36
        }
      },
      "source": [
        "# finally creating new dataset:\n",
        "clustering = DBSCAN(eps=best_eps, min_samples=176).fit(data_features)\n",
        "\n",
        "idxs = []\n",
        "for i in range(len(clustering.labels_)):\n",
        "  if clustering.labels_[i] == -1:\n",
        "    idxs.append(i)\n",
        "\n",
        "new_data = np.delete(data_features, idxs, axis=0)\n",
        "new_labels = np.delete(data_labels, idxs, axis=0)\n",
        "new_labels = new_labels - 1\n",
        "\n",
        "new_N = new_data.shape[0]\n",
        "new_train = int(new_N*0.8)\n",
        "\n",
        "new_xtrain = new_data[:new_train]/np.max(new_data[:new_train])\n",
        "new_ytrain = new_labels[:new_train]\n",
        "\n",
        "new_xtest = new_data[new_train:]/np.max(new_data[new_train:])\n",
        "new_ytest = new_labels[new_train:]\n",
        "\n",
        "print(new_xtrain.shape, new_xtest.shape, new_ytrain.shape, new_ytest.shape)"
      ],
      "execution_count": 0,
      "outputs": [
        {
          "output_type": "stream",
          "text": [
            "(1676, 21) (420, 21) (1676,) (420,)\n"
          ],
          "name": "stdout"
        }
      ]
    },
    {
      "cell_type": "markdown",
      "metadata": {
        "id": "nZXG81IHkTVr",
        "colab_type": "text"
      },
      "source": [
        "# KNN Algorithm:"
      ]
    },
    {
      "cell_type": "code",
      "metadata": {
        "id": "17frjCd9kXgq",
        "colab_type": "code",
        "outputId": "cfdb58de-87d3-4eea-852c-efd3b33fde0e",
        "colab": {
          "base_uri": "https://localhost:8080/",
          "height": 73
        }
      },
      "source": [
        "from sklearn.neighbors import KNeighborsClassifier\n",
        "from sklearn import metrics\n",
        "model = KNeighborsClassifier(n_neighbors=5)\n",
        "\n",
        "model.fit(train_data,train_labels)"
      ],
      "execution_count": 0,
      "outputs": [
        {
          "output_type": "execute_result",
          "data": {
            "text/plain": [
              "KNeighborsClassifier(algorithm='auto', leaf_size=30, metric='minkowski',\n",
              "                     metric_params=None, n_jobs=None, n_neighbors=5, p=2,\n",
              "                     weights='uniform')"
            ]
          },
          "metadata": {
            "tags": []
          },
          "execution_count": 11
        }
      ]
    },
    {
      "cell_type": "code",
      "metadata": {
        "id": "1-D6IMl2kuzL",
        "colab_type": "code",
        "outputId": "fb1dc2f2-0e83-4e21-e496-cff3e233b0af",
        "colab": {
          "base_uri": "https://localhost:8080/",
          "height": 36
        }
      },
      "source": [
        "y_pred = model.predict(test_data)\n",
        "print(\"Accuracy:\",metrics.accuracy_score(test_labels, y_pred))"
      ],
      "execution_count": 0,
      "outputs": [
        {
          "output_type": "stream",
          "text": [
            "Accuracy: 0.7676056338028169\n"
          ],
          "name": "stdout"
        }
      ]
    },
    {
      "cell_type": "code",
      "metadata": {
        "id": "iRPFkdbUlgvz",
        "colab_type": "code",
        "outputId": "0f4d0aef-b466-431a-f10b-5dd4dfd47416",
        "colab": {
          "base_uri": "https://localhost:8080/",
          "height": 284
        }
      },
      "source": [
        "# check for different values of neighbors\n",
        "accs = []\n",
        "x1, x2 = 1, 25\n",
        "\n",
        "for i in range(x1, x2):\n",
        "  model = KNeighborsClassifier(n_neighbors=i)\n",
        "  model.fit(new_xtrain,new_ytrain)\n",
        "  y_pred = model.predict(new_xtest)\n",
        "  accs.append(metrics.accuracy_score(new_ytest, y_pred))\n",
        "\n",
        "plt.plot([i for i in range(x1, x2)], accs)\n",
        "print(\"Max accuracy:\", max(accs))"
      ],
      "execution_count": 0,
      "outputs": [
        {
          "output_type": "stream",
          "text": [
            "Max accuracy: 0.8847058823529412\n"
          ],
          "name": "stdout"
        },
        {
          "output_type": "display_data",
          "data": {
            "image/png": "[encoded data removed]",
            "text/plain": [
              "<Figure size 432x288 with 1 Axes>"
            ]
          },
          "metadata": {
            "tags": [],
            "needs_background": "light"
          }
        }
      ]
    },
    {
      "cell_type": "markdown",
      "metadata": {
        "id": "qIar4MGJRbcU",
        "colab_type": "text"
      },
      "source": [
        "Data normalization (0 to 1):"
      ]
    },
    {
      "cell_type": "code",
      "metadata": {
        "id": "qLgUmRPnIrvn",
        "colab_type": "code",
        "colab": {}
      },
      "source": [
        "n_xtrain = train_data/np.max(train_data)\n",
        "n_xtest = test_data/np.max(test_data)\n",
        "y_train = train_labels-1\n",
        "y_test = test_labels-1"
      ],
      "execution_count": 0,
      "outputs": []
    },
    {
      "cell_type": "markdown",
      "metadata": {
        "id": "6dR9lYDoG1tL",
        "colab_type": "text"
      },
      "source": [
        "# Linear SVM:"
      ]
    },
    {
      "cell_type": "code",
      "metadata": {
        "id": "9VURuxivRrNU",
        "colab_type": "code",
        "outputId": "f3e0885c-e991-4798-854b-f5451ee77a77",
        "colab": {
          "base_uri": "https://localhost:8080/",
          "height": 90
        }
      },
      "source": [
        "svm_model = svm.LinearSVC(max_iter=10000, C=4.5)\n",
        "svm_model.fit(n_xtrain, y_train)"
      ],
      "execution_count": 0,
      "outputs": [
        {
          "output_type": "execute_result",
          "data": {
            "text/plain": [
              "LinearSVC(C=4.5, class_weight=None, dual=True, fit_intercept=True,\n",
              "          intercept_scaling=1, loss='squared_hinge', max_iter=10000,\n",
              "          multi_class='ovr', penalty='l2', random_state=None, tol=0.0001,\n",
              "          verbose=0)"
            ]
          },
          "metadata": {
            "tags": []
          },
          "execution_count": 10
        }
      ]
    },
    {
      "cell_type": "code",
      "metadata": {
        "id": "DPhekMd0JxDm",
        "colab_type": "code",
        "outputId": "5d546d39-2d87-4422-a153-4a8cecef68e8",
        "colab": {
          "base_uri": "https://localhost:8080/",
          "height": 35
        }
      },
      "source": [
        "acc = svm_model.predict(n_xtest)\n",
        "print(\"Accuracy: \"+str(accuracy_score(y_test, acc)))"
      ],
      "execution_count": 0,
      "outputs": [
        {
          "output_type": "stream",
          "text": [
            "Accuracy: 0.8779342723004695\n"
          ],
          "name": "stdout"
        }
      ]
    },
    {
      "cell_type": "markdown",
      "metadata": {
        "id": "vMT-n1wRwe8x",
        "colab_type": "text"
      },
      "source": [
        "# RBF Kernel SVM"
      ]
    },
    {
      "cell_type": "code",
      "metadata": {
        "id": "HFeQFKBvwidP",
        "colab_type": "code",
        "outputId": "ccf18257-923e-4721-f570-ad68f20d86f3",
        "colab": {
          "base_uri": "https://localhost:8080/",
          "height": 35
        }
      },
      "source": [
        "rbf_svc = svm.SVC(kernel='rbf', C=2000, gamma=.09)\n",
        "rbf_svc.fit(dn_xtrain, y_train)\n",
        "rbf_acc = rbf_svc.predict(dn_xtest)\n",
        "print(\"Accuracy: \"+str(accuracy_score(y_test, rbf_acc)))"
      ],
      "execution_count": 0,
      "outputs": [
        {
          "output_type": "stream",
          "text": [
            "Accuracy: 0.9366197183098591\n"
          ],
          "name": "stdout"
        }
      ]
    },
    {
      "cell_type": "markdown",
      "metadata": {
        "id": "s3-yDgSkOjwR",
        "colab_type": "text"
      },
      "source": [
        "# Logistic Regression:"
      ]
    },
    {
      "cell_type": "code",
      "metadata": {
        "id": "9eS4aCFfOvuH",
        "colab_type": "code",
        "colab": {}
      },
      "source": [
        "lrmodel = Sequential()\n",
        "\n",
        "lrmodel.add(Dense(3, activation=\"softmax\"))"
      ],
      "execution_count": 0,
      "outputs": []
    },
    {
      "cell_type": "code",
      "metadata": {
        "id": "KGJMWtLuPQMo",
        "colab_type": "code",
        "outputId": "d30454fc-8cad-4d51-fa1e-0da46d39a8df",
        "colab": {
          "base_uri": "https://localhost:8080/",
          "height": 1000
        }
      },
      "source": [
        "lrmodel.compile(optimizer=\"adam\", loss='sparse_categorical_crossentropy',\n",
        "              metrics=['accuracy'])\n",
        "hist = lrmodel.fit(n_xtrain, y_train, batch_size=128, epochs=50, validation_data=(n_xtest, y_test), kernel_regularizer=regularizers.l2(0.001))"
      ],
      "execution_count": 0,
      "outputs": [
        {
          "output_type": "stream",
          "text": [
            "Epoch 1/50\n",
            "14/14 [==============================] - 0s 8ms/step - loss: 1.2203 - accuracy: 0.1712 - val_loss: 1.2040 - val_accuracy: 0.0235\n",
            "Epoch 2/50\n",
            "14/14 [==============================] - 0s 4ms/step - loss: 1.1533 - accuracy: 0.1712 - val_loss: 1.1402 - val_accuracy: 0.0235\n",
            "Epoch 3/50\n",
            "14/14 [==============================] - 0s 4ms/step - loss: 1.0926 - accuracy: 0.1712 - val_loss: 1.0824 - val_accuracy: 0.0563\n",
            "Epoch 4/50\n",
            "14/14 [==============================] - 0s 4ms/step - loss: 1.0356 - accuracy: 0.2718 - val_loss: 1.0293 - val_accuracy: 0.3850\n",
            "Epoch 5/50\n",
            "14/14 [==============================] - 0s 4ms/step - loss: 0.9871 - accuracy: 0.5935 - val_loss: 0.9813 - val_accuracy: 0.7817\n",
            "Epoch 6/50\n",
            "14/14 [==============================] - 0s 4ms/step - loss: 0.9410 - accuracy: 0.7688 - val_loss: 0.9391 - val_accuracy: 0.7981\n",
            "Epoch 7/50\n",
            "14/14 [==============================] - 0s 4ms/step - loss: 0.9047 - accuracy: 0.7735 - val_loss: 0.9012 - val_accuracy: 0.7981\n",
            "Epoch 8/50\n",
            "14/14 [==============================] - 0s 4ms/step - loss: 0.8674 - accuracy: 0.7735 - val_loss: 0.8678 - val_accuracy: 0.7981\n",
            "Epoch 9/50\n",
            "14/14 [==============================] - 0s 4ms/step - loss: 0.8351 - accuracy: 0.7735 - val_loss: 0.8383 - val_accuracy: 0.7981\n",
            "Epoch 10/50\n",
            "14/14 [==============================] - 0s 4ms/step - loss: 0.8141 - accuracy: 0.7735 - val_loss: 0.8126 - val_accuracy: 0.7981\n",
            "Epoch 11/50\n",
            "14/14 [==============================] - 0s 4ms/step - loss: 0.7897 - accuracy: 0.7735 - val_loss: 0.7908 - val_accuracy: 0.7981\n",
            "Epoch 12/50\n",
            "14/14 [==============================] - 0s 4ms/step - loss: 0.7763 - accuracy: 0.7735 - val_loss: 0.7713 - val_accuracy: 0.7981\n",
            "Epoch 13/50\n",
            "14/14 [==============================] - 0s 4ms/step - loss: 0.7508 - accuracy: 0.7735 - val_loss: 0.7552 - val_accuracy: 0.7981\n",
            "Epoch 14/50\n",
            "14/14 [==============================] - 0s 4ms/step - loss: 0.7421 - accuracy: 0.7735 - val_loss: 0.7412 - val_accuracy: 0.7981\n",
            "Epoch 15/50\n",
            "14/14 [==============================] - 0s 3ms/step - loss: 0.7226 - accuracy: 0.7735 - val_loss: 0.7296 - val_accuracy: 0.7981\n",
            "Epoch 16/50\n",
            "14/14 [==============================] - 0s 4ms/step - loss: 0.7218 - accuracy: 0.7735 - val_loss: 0.7189 - val_accuracy: 0.7981\n",
            "Epoch 17/50\n",
            "14/14 [==============================] - 0s 4ms/step - loss: 0.7069 - accuracy: 0.7735 - val_loss: 0.7116 - val_accuracy: 0.7981\n",
            "Epoch 18/50\n",
            "14/14 [==============================] - 0s 4ms/step - loss: 0.7126 - accuracy: 0.7735 - val_loss: 0.7041 - val_accuracy: 0.7981\n",
            "Epoch 19/50\n",
            "14/14 [==============================] - 0s 4ms/step - loss: 0.6918 - accuracy: 0.7735 - val_loss: 0.6985 - val_accuracy: 0.7981\n",
            "Epoch 20/50\n",
            "14/14 [==============================] - 0s 4ms/step - loss: 0.6985 - accuracy: 0.7735 - val_loss: 0.6935 - val_accuracy: 0.7981\n",
            "Epoch 21/50\n",
            "14/14 [==============================] - 0s 4ms/step - loss: 0.6822 - accuracy: 0.7735 - val_loss: 0.6902 - val_accuracy: 0.7981\n",
            "Epoch 22/50\n",
            "14/14 [==============================] - 0s 4ms/step - loss: 0.6752 - accuracy: 0.7735 - val_loss: 0.6866 - val_accuracy: 0.7981\n",
            "Epoch 23/50\n",
            "14/14 [==============================] - 0s 4ms/step - loss: 0.6802 - accuracy: 0.7735 - val_loss: 0.6833 - val_accuracy: 0.7981\n",
            "Epoch 24/50\n",
            "14/14 [==============================] - 0s 4ms/step - loss: 0.6758 - accuracy: 0.7735 - val_loss: 0.6818 - val_accuracy: 0.7981\n",
            "Epoch 25/50\n",
            "14/14 [==============================] - 0s 4ms/step - loss: 0.6710 - accuracy: 0.7735 - val_loss: 0.6806 - val_accuracy: 0.7981\n",
            "Epoch 26/50\n",
            "14/14 [==============================] - 0s 4ms/step - loss: 0.6627 - accuracy: 0.7735 - val_loss: 0.6796 - val_accuracy: 0.7981\n",
            "Epoch 27/50\n",
            "14/14 [==============================] - 0s 4ms/step - loss: 0.6646 - accuracy: 0.7735 - val_loss: 0.6783 - val_accuracy: 0.7981\n",
            "Epoch 28/50\n",
            "14/14 [==============================] - 0s 4ms/step - loss: 0.6650 - accuracy: 0.7735 - val_loss: 0.6777 - val_accuracy: 0.7981\n",
            "Epoch 29/50\n",
            "14/14 [==============================] - 0s 4ms/step - loss: 0.6588 - accuracy: 0.7735 - val_loss: 0.6781 - val_accuracy: 0.7981\n",
            "Epoch 30/50\n",
            "14/14 [==============================] - 0s 4ms/step - loss: 0.6591 - accuracy: 0.7735 - val_loss: 0.6781 - val_accuracy: 0.7981\n",
            "Epoch 31/50\n",
            "14/14 [==============================] - 0s 4ms/step - loss: 0.6563 - accuracy: 0.7735 - val_loss: 0.6783 - val_accuracy: 0.7981\n",
            "Epoch 32/50\n",
            "14/14 [==============================] - 0s 4ms/step - loss: 0.6433 - accuracy: 0.7735 - val_loss: 0.6785 - val_accuracy: 0.7981\n",
            "Epoch 33/50\n",
            "14/14 [==============================] - 0s 4ms/step - loss: 0.6490 - accuracy: 0.7735 - val_loss: 0.6781 - val_accuracy: 0.7981\n",
            "Epoch 34/50\n",
            "14/14 [==============================] - 0s 4ms/step - loss: 0.6573 - accuracy: 0.7735 - val_loss: 0.6785 - val_accuracy: 0.7981\n",
            "Epoch 35/50\n",
            "14/14 [==============================] - 0s 4ms/step - loss: 0.6538 - accuracy: 0.7735 - val_loss: 0.6798 - val_accuracy: 0.7981\n",
            "Epoch 36/50\n",
            "14/14 [==============================] - 0s 4ms/step - loss: 0.6439 - accuracy: 0.7735 - val_loss: 0.6807 - val_accuracy: 0.7981\n",
            "Epoch 37/50\n",
            "14/14 [==============================] - 0s 4ms/step - loss: 0.6451 - accuracy: 0.7735 - val_loss: 0.6808 - val_accuracy: 0.7981\n",
            "Epoch 38/50\n",
            "14/14 [==============================] - 0s 4ms/step - loss: 0.6526 - accuracy: 0.7735 - val_loss: 0.6819 - val_accuracy: 0.7981\n",
            "Epoch 39/50\n",
            "14/14 [==============================] - 0s 4ms/step - loss: 0.6464 - accuracy: 0.7735 - val_loss: 0.6830 - val_accuracy: 0.7981\n",
            "Epoch 40/50\n",
            "14/14 [==============================] - 0s 4ms/step - loss: 0.6326 - accuracy: 0.7735 - val_loss: 0.6835 - val_accuracy: 0.7981\n",
            "Epoch 41/50\n",
            "14/14 [==============================] - 0s 4ms/step - loss: 0.6367 - accuracy: 0.7735 - val_loss: 0.6836 - val_accuracy: 0.7981\n",
            "Epoch 42/50\n",
            "14/14 [==============================] - 0s 4ms/step - loss: 0.6369 - accuracy: 0.7735 - val_loss: 0.6842 - val_accuracy: 0.7981\n",
            "Epoch 43/50\n",
            "14/14 [==============================] - 0s 4ms/step - loss: 0.6392 - accuracy: 0.7735 - val_loss: 0.6850 - val_accuracy: 0.7981\n",
            "Epoch 44/50\n",
            "14/14 [==============================] - 0s 4ms/step - loss: 0.6311 - accuracy: 0.7735 - val_loss: 0.6859 - val_accuracy: 0.7981\n",
            "Epoch 45/50\n",
            "14/14 [==============================] - 0s 4ms/step - loss: 0.6363 - accuracy: 0.7735 - val_loss: 0.6863 - val_accuracy: 0.7981\n",
            "Epoch 46/50\n",
            "14/14 [==============================] - 0s 4ms/step - loss: 0.6313 - accuracy: 0.7735 - val_loss: 0.6875 - val_accuracy: 0.7981\n",
            "Epoch 47/50\n",
            "14/14 [==============================] - 0s 4ms/step - loss: 0.6283 - accuracy: 0.7735 - val_loss: 0.6884 - val_accuracy: 0.7981\n",
            "Epoch 48/50\n",
            "14/14 [==============================] - 0s 4ms/step - loss: 0.6400 - accuracy: 0.7735 - val_loss: 0.6892 - val_accuracy: 0.7981\n",
            "Epoch 49/50\n",
            "14/14 [==============================] - 0s 4ms/step - loss: 0.6263 - accuracy: 0.7735 - val_loss: 0.6903 - val_accuracy: 0.7981\n",
            "Epoch 50/50\n",
            "14/14 [==============================] - 0s 4ms/step - loss: 0.6219 - accuracy: 0.7735 - val_loss: 0.6921 - val_accuracy: 0.7981\n"
          ],
          "name": "stdout"
        }
      ]
    },
    {
      "cell_type": "code",
      "metadata": {
        "id": "Btf4e4t0QsdG",
        "colab_type": "code",
        "outputId": "5d2d3b4a-411a-4a7b-8d9d-41f18aecdcab",
        "colab": {
          "base_uri": "https://localhost:8080/",
          "height": 573
        }
      },
      "source": [
        "# Plot training & validation accuracy values\n",
        "plt.plot(hist.history['accuracy'])\n",
        "plt.plot(hist.history['val_accuracy'])\n",
        "plt.title('Model accuracy')\n",
        "plt.ylabel('Accuracy')\n",
        "plt.xlabel('Epoch')\n",
        "plt.legend(['Train', 'Test'], loc='upper left')\n",
        "plt.show()\n",
        "plt.figure()\n",
        "# Plot training & validation loss values\n",
        "plt.plot(hist.history['loss'])\n",
        "plt.plot(hist.history['val_loss'])\n",
        "plt.title('Model loss')\n",
        "plt.ylabel('Loss')\n",
        "plt.xlabel('Epoch')\n",
        "plt.legend(['Train', 'Test'], loc='upper left')\n",
        "plt.show()"
      ],
      "execution_count": 0,
      "outputs": [
        {
          "output_type": "display_data",
          "data": {
            "image/png": "[encoded data removed]",
            "text/plain": [
              "<Figure size 432x288 with 1 Axes>"
            ]
          },
          "metadata": {
            "tags": [],
            "needs_background": "light"
          }
        },
        {
          "output_type": "display_data",
          "data": {
            "image/png": "[encoded data removed]",
            "text/plain": [
              "<Figure size 432x288 with 1 Axes>"
            ]
          },
          "metadata": {
            "tags": [],
            "needs_background": "light"
          }
        }
      ]
    },
    {
      "cell_type": "code",
      "metadata": {
        "id": "0_uAe8pEgy-i",
        "colab_type": "code",
        "outputId": "2d9c6fed-9a0a-432c-d956-3c606848b4c4",
        "colab": {
          "base_uri": "https://localhost:8080/",
          "height": 53
        }
      },
      "source": [
        "result = lrmodel.evaluate(n_xtest, y_test, batch_size=32)\n",
        "print('test loss, test acc:', result)"
      ],
      "execution_count": 0,
      "outputs": [
        {
          "output_type": "stream",
          "text": [
            "14/14 [==============================] - 0s 2ms/step - loss: 0.7359 - accuracy: 0.7981\n",
            "test loss, test acc: [0.7359370589256287, 0.7981220483779907]\n"
          ],
          "name": "stdout"
        }
      ]
    },
    {
      "cell_type": "markdown",
      "metadata": {
        "id": "WrQDzXYxbQMm",
        "colab_type": "text"
      },
      "source": [
        "# Dense Layered Neural Network:"
      ]
    },
    {
      "cell_type": "markdown",
      "metadata": {
        "id": "53xipF8uhfFs",
        "colab_type": "text"
      },
      "source": [
        "Data Normalization (-1 to 0):"
      ]
    },
    {
      "cell_type": "code",
      "metadata": {
        "id": "eykPFOc9cKDc",
        "colab_type": "code",
        "colab": {}
      },
      "source": [
        "dn_xtrain = (train_data - np.max(train_data))/np.max(train_data)\n",
        "dn_xtest = (test_data - np.max(test_data))/np.max(test_data)"
      ],
      "execution_count": 0,
      "outputs": []
    },
    {
      "cell_type": "code",
      "metadata": {
        "id": "8OcjHgikbY_0",
        "colab_type": "code",
        "colab": {}
      },
      "source": [
        "densenn = Sequential()\n",
        "\n",
        "densenn.add(Dense(128))\n",
        "densenn.add(LeakyReLU(alpha=0.3))\n",
        "\n",
        "densenn.add(Dense(8))\n",
        "densenn.add(LeakyReLU(alpha=0.3))\n",
        "\n",
        "densenn.add(Dense(3, activation=\"softmax\"))"
      ],
      "execution_count": 0,
      "outputs": []
    },
    {
      "cell_type": "code",
      "metadata": {
        "id": "QTpB-a3LdTHE",
        "colab_type": "code",
        "outputId": "d28c19bc-3a3d-49ac-cc8c-c4020c7cf53e",
        "colab": {
          "base_uri": "https://localhost:8080/",
          "height": 1000
        }
      },
      "source": [
        "densenn.compile(optimizer=\"adam\", loss='sparse_categorical_crossentropy',\n",
        "                metrics=['accuracy'])\n",
        "hist1 = densenn.fit(dn_xtrain, y_train, batch_size=24, epochs=80, validation_data=(dn_xtest, y_test), \n",
        "                    kernel_regularizer=regularizers.l2(0.0001))"
      ],
      "execution_count": 0,
      "outputs": [
        {
          "output_type": "stream",
          "text": [
            "Epoch 1/80\n",
            "71/71 [==============================] - 0s 4ms/step - loss: 0.6832 - accuracy: 0.7665 - val_loss: 0.7678 - val_accuracy: 0.7981\n",
            "Epoch 2/80\n",
            "71/71 [==============================] - 0s 3ms/step - loss: 0.6160 - accuracy: 0.7735 - val_loss: 0.7669 - val_accuracy: 0.7981\n",
            "Epoch 3/80\n",
            "71/71 [==============================] - 0s 3ms/step - loss: 0.5606 - accuracy: 0.7906 - val_loss: 0.9241 - val_accuracy: 0.7653\n",
            "Epoch 4/80\n",
            "71/71 [==============================] - 0s 3ms/step - loss: 0.5098 - accuracy: 0.8218 - val_loss: 0.8395 - val_accuracy: 0.7887\n",
            "Epoch 5/80\n",
            "71/71 [==============================] - 0s 3ms/step - loss: 0.4796 - accuracy: 0.8229 - val_loss: 0.8494 - val_accuracy: 0.7864\n",
            "Epoch 6/80\n",
            "71/71 [==============================] - 0s 3ms/step - loss: 0.4743 - accuracy: 0.8259 - val_loss: 0.8240 - val_accuracy: 0.7981\n",
            "Epoch 7/80\n",
            "71/71 [==============================] - 0s 3ms/step - loss: 0.4396 - accuracy: 0.8388 - val_loss: 0.8859 - val_accuracy: 0.7347\n",
            "Epoch 8/80\n",
            "71/71 [==============================] - 0s 3ms/step - loss: 0.4258 - accuracy: 0.8424 - val_loss: 0.7915 - val_accuracy: 0.7254\n",
            "Epoch 9/80\n",
            "71/71 [==============================] - 0s 3ms/step - loss: 0.4003 - accuracy: 0.8465 - val_loss: 0.7673 - val_accuracy: 0.7629\n",
            "Epoch 10/80\n",
            "71/71 [==============================] - 0s 3ms/step - loss: 0.3787 - accuracy: 0.8535 - val_loss: 0.5687 - val_accuracy: 0.7394\n",
            "Epoch 11/80\n",
            "71/71 [==============================] - 0s 3ms/step - loss: 0.3698 - accuracy: 0.8512 - val_loss: 0.3565 - val_accuracy: 0.8099\n",
            "Epoch 12/80\n",
            "71/71 [==============================] - 0s 3ms/step - loss: 0.3825 - accuracy: 0.8494 - val_loss: 0.2907 - val_accuracy: 0.8592\n",
            "Epoch 13/80\n",
            "71/71 [==============================] - 0s 3ms/step - loss: 0.3627 - accuracy: 0.8529 - val_loss: 0.4300 - val_accuracy: 0.7840\n",
            "Epoch 14/80\n",
            "71/71 [==============================] - 0s 3ms/step - loss: 0.3365 - accuracy: 0.8629 - val_loss: 0.2462 - val_accuracy: 0.8944\n",
            "Epoch 15/80\n",
            "71/71 [==============================] - 0s 3ms/step - loss: 0.3592 - accuracy: 0.8512 - val_loss: 0.2587 - val_accuracy: 0.9249\n",
            "Epoch 16/80\n",
            "71/71 [==============================] - 0s 3ms/step - loss: 0.3267 - accuracy: 0.8706 - val_loss: 0.5776 - val_accuracy: 0.8192\n",
            "Epoch 17/80\n",
            "71/71 [==============================] - 0s 3ms/step - loss: 0.3249 - accuracy: 0.8671 - val_loss: 0.3236 - val_accuracy: 0.9108\n",
            "Epoch 18/80\n",
            "71/71 [==============================] - 0s 3ms/step - loss: 0.3454 - accuracy: 0.8694 - val_loss: 0.4273 - val_accuracy: 0.8568\n",
            "Epoch 19/80\n",
            "71/71 [==============================] - 0s 3ms/step - loss: 0.3608 - accuracy: 0.8524 - val_loss: 0.6184 - val_accuracy: 0.8239\n",
            "Epoch 20/80\n",
            "71/71 [==============================] - 0s 3ms/step - loss: 0.3471 - accuracy: 0.8641 - val_loss: 0.3077 - val_accuracy: 0.9131\n",
            "Epoch 21/80\n",
            "71/71 [==============================] - 0s 3ms/step - loss: 0.3252 - accuracy: 0.8647 - val_loss: 0.2795 - val_accuracy: 0.9131\n",
            "Epoch 22/80\n",
            "71/71 [==============================] - 0s 3ms/step - loss: 0.3131 - accuracy: 0.8724 - val_loss: 0.3105 - val_accuracy: 0.9131\n",
            "Epoch 23/80\n",
            "71/71 [==============================] - 0s 3ms/step - loss: 0.3396 - accuracy: 0.8588 - val_loss: 0.2335 - val_accuracy: 0.9061\n",
            "Epoch 24/80\n",
            "71/71 [==============================] - 0s 3ms/step - loss: 0.3361 - accuracy: 0.8671 - val_loss: 0.2425 - val_accuracy: 0.8967\n",
            "Epoch 25/80\n",
            "71/71 [==============================] - 0s 3ms/step - loss: 0.3115 - accuracy: 0.8771 - val_loss: 0.2504 - val_accuracy: 0.9225\n",
            "Epoch 26/80\n",
            "71/71 [==============================] - 0s 3ms/step - loss: 0.3256 - accuracy: 0.8665 - val_loss: 0.3045 - val_accuracy: 0.8685\n",
            "Epoch 27/80\n",
            "71/71 [==============================] - 0s 3ms/step - loss: 0.3139 - accuracy: 0.8718 - val_loss: 0.6292 - val_accuracy: 0.8075\n",
            "Epoch 28/80\n",
            "71/71 [==============================] - 0s 3ms/step - loss: 0.3011 - accuracy: 0.8747 - val_loss: 0.1957 - val_accuracy: 0.9531\n",
            "Epoch 29/80\n",
            "71/71 [==============================] - 0s 3ms/step - loss: 0.3321 - accuracy: 0.8671 - val_loss: 0.2881 - val_accuracy: 0.9155\n",
            "Epoch 30/80\n",
            "71/71 [==============================] - 0s 3ms/step - loss: 0.3082 - accuracy: 0.8671 - val_loss: 0.2308 - val_accuracy: 0.9296\n",
            "Epoch 31/80\n",
            "71/71 [==============================] - 0s 3ms/step - loss: 0.3125 - accuracy: 0.8741 - val_loss: 0.1900 - val_accuracy: 0.9460\n",
            "Epoch 32/80\n",
            "71/71 [==============================] - 0s 3ms/step - loss: 0.2986 - accuracy: 0.8735 - val_loss: 0.2523 - val_accuracy: 0.9085\n",
            "Epoch 33/80\n",
            "71/71 [==============================] - 0s 3ms/step - loss: 0.3076 - accuracy: 0.8741 - val_loss: 0.4063 - val_accuracy: 0.8944\n",
            "Epoch 34/80\n",
            "71/71 [==============================] - 0s 3ms/step - loss: 0.3238 - accuracy: 0.8688 - val_loss: 0.1658 - val_accuracy: 0.9577\n",
            "Epoch 35/80\n",
            "71/71 [==============================] - 0s 3ms/step - loss: 0.3114 - accuracy: 0.8694 - val_loss: 0.3087 - val_accuracy: 0.8967\n",
            "Epoch 36/80\n",
            "71/71 [==============================] - 0s 3ms/step - loss: 0.2986 - accuracy: 0.8718 - val_loss: 0.1870 - val_accuracy: 0.9319\n",
            "Epoch 37/80\n",
            "71/71 [==============================] - 0s 3ms/step - loss: 0.3172 - accuracy: 0.8665 - val_loss: 0.2133 - val_accuracy: 0.9577\n",
            "Epoch 38/80\n",
            "71/71 [==============================] - 0s 3ms/step - loss: 0.3114 - accuracy: 0.8741 - val_loss: 0.2935 - val_accuracy: 0.9296\n",
            "Epoch 39/80\n",
            "71/71 [==============================] - 0s 3ms/step - loss: 0.2875 - accuracy: 0.8794 - val_loss: 0.3534 - val_accuracy: 0.9014\n",
            "Epoch 40/80\n",
            "71/71 [==============================] - 0s 3ms/step - loss: 0.2922 - accuracy: 0.8824 - val_loss: 0.3824 - val_accuracy: 0.8732\n",
            "Epoch 41/80\n",
            "71/71 [==============================] - 0s 3ms/step - loss: 0.2954 - accuracy: 0.8771 - val_loss: 0.4042 - val_accuracy: 0.8568\n",
            "Epoch 42/80\n",
            "71/71 [==============================] - 0s 3ms/step - loss: 0.3097 - accuracy: 0.8782 - val_loss: 0.5457 - val_accuracy: 0.8028\n",
            "Epoch 43/80\n",
            "71/71 [==============================] - 0s 3ms/step - loss: 0.2951 - accuracy: 0.8812 - val_loss: 0.2466 - val_accuracy: 0.9202\n",
            "Epoch 44/80\n",
            "71/71 [==============================] - 0s 3ms/step - loss: 0.3182 - accuracy: 0.8612 - val_loss: 0.2364 - val_accuracy: 0.9296\n",
            "Epoch 45/80\n",
            "71/71 [==============================] - 0s 3ms/step - loss: 0.2951 - accuracy: 0.8871 - val_loss: 0.3567 - val_accuracy: 0.8826\n",
            "Epoch 46/80\n",
            "71/71 [==============================] - 0s 3ms/step - loss: 0.2999 - accuracy: 0.8718 - val_loss: 0.5500 - val_accuracy: 0.7934\n",
            "Epoch 47/80\n",
            "71/71 [==============================] - 0s 3ms/step - loss: 0.2902 - accuracy: 0.8882 - val_loss: 0.2962 - val_accuracy: 0.9038\n",
            "Epoch 48/80\n",
            "71/71 [==============================] - 0s 3ms/step - loss: 0.2840 - accuracy: 0.8812 - val_loss: 0.5386 - val_accuracy: 0.8075\n",
            "Epoch 49/80\n",
            "71/71 [==============================] - 0s 3ms/step - loss: 0.2790 - accuracy: 0.8818 - val_loss: 0.2312 - val_accuracy: 0.9366\n",
            "Epoch 50/80\n",
            "71/71 [==============================] - 0s 3ms/step - loss: 0.2752 - accuracy: 0.8871 - val_loss: 0.2508 - val_accuracy: 0.9249\n",
            "Epoch 51/80\n",
            "71/71 [==============================] - 0s 3ms/step - loss: 0.2989 - accuracy: 0.8806 - val_loss: 0.2069 - val_accuracy: 0.9507\n",
            "Epoch 52/80\n",
            "71/71 [==============================] - 0s 3ms/step - loss: 0.2935 - accuracy: 0.8729 - val_loss: 0.2168 - val_accuracy: 0.9272\n",
            "Epoch 53/80\n",
            "71/71 [==============================] - 0s 3ms/step - loss: 0.3030 - accuracy: 0.8718 - val_loss: 0.2722 - val_accuracy: 0.9202\n",
            "Epoch 54/80\n",
            "71/71 [==============================] - 0s 3ms/step - loss: 0.3060 - accuracy: 0.8765 - val_loss: 0.2713 - val_accuracy: 0.9202\n",
            "Epoch 55/80\n",
            "71/71 [==============================] - 0s 3ms/step - loss: 0.3024 - accuracy: 0.8718 - val_loss: 0.2391 - val_accuracy: 0.9225\n",
            "Epoch 56/80\n",
            "71/71 [==============================] - 0s 3ms/step - loss: 0.3026 - accuracy: 0.8776 - val_loss: 0.2386 - val_accuracy: 0.9225\n",
            "Epoch 57/80\n",
            "71/71 [==============================] - 0s 3ms/step - loss: 0.2821 - accuracy: 0.8859 - val_loss: 0.3509 - val_accuracy: 0.8685\n",
            "Epoch 58/80\n",
            "71/71 [==============================] - 0s 3ms/step - loss: 0.2774 - accuracy: 0.8824 - val_loss: 0.4658 - val_accuracy: 0.8662\n",
            "Epoch 59/80\n",
            "71/71 [==============================] - 0s 3ms/step - loss: 0.2959 - accuracy: 0.8735 - val_loss: 0.2738 - val_accuracy: 0.8897\n",
            "Epoch 60/80\n",
            "71/71 [==============================] - 0s 3ms/step - loss: 0.2777 - accuracy: 0.8947 - val_loss: 0.3096 - val_accuracy: 0.8850\n",
            "Epoch 61/80\n",
            "71/71 [==============================] - 0s 3ms/step - loss: 0.2806 - accuracy: 0.8894 - val_loss: 0.2840 - val_accuracy: 0.9225\n",
            "Epoch 62/80\n",
            "71/71 [==============================] - 0s 3ms/step - loss: 0.2734 - accuracy: 0.8894 - val_loss: 0.3209 - val_accuracy: 0.8803\n",
            "Epoch 63/80\n",
            "71/71 [==============================] - 0s 3ms/step - loss: 0.2843 - accuracy: 0.8835 - val_loss: 0.3240 - val_accuracy: 0.9131\n",
            "Epoch 64/80\n",
            "71/71 [==============================] - 0s 3ms/step - loss: 0.2938 - accuracy: 0.8794 - val_loss: 0.4769 - val_accuracy: 0.7958\n",
            "Epoch 65/80\n",
            "71/71 [==============================] - 0s 3ms/step - loss: 0.2800 - accuracy: 0.8894 - val_loss: 0.3148 - val_accuracy: 0.8873\n",
            "Epoch 66/80\n",
            "71/71 [==============================] - 0s 4ms/step - loss: 0.2811 - accuracy: 0.8912 - val_loss: 0.2803 - val_accuracy: 0.9272\n",
            "Epoch 67/80\n",
            "71/71 [==============================] - 0s 3ms/step - loss: 0.2933 - accuracy: 0.8835 - val_loss: 0.1705 - val_accuracy: 0.9624\n",
            "Epoch 68/80\n",
            "71/71 [==============================] - 0s 3ms/step - loss: 0.2879 - accuracy: 0.8782 - val_loss: 0.3423 - val_accuracy: 0.9155\n",
            "Epoch 69/80\n",
            "71/71 [==============================] - 0s 3ms/step - loss: 0.2740 - accuracy: 0.8824 - val_loss: 0.3259 - val_accuracy: 0.8732\n",
            "Epoch 70/80\n",
            "71/71 [==============================] - 0s 3ms/step - loss: 0.2688 - accuracy: 0.8882 - val_loss: 0.3214 - val_accuracy: 0.9178\n",
            "Epoch 71/80\n",
            "71/71 [==============================] - 0s 3ms/step - loss: 0.2750 - accuracy: 0.8876 - val_loss: 0.5504 - val_accuracy: 0.8709\n",
            "Epoch 72/80\n",
            "71/71 [==============================] - 0s 3ms/step - loss: 0.2749 - accuracy: 0.8871 - val_loss: 0.3080 - val_accuracy: 0.8779\n",
            "Epoch 73/80\n",
            "71/71 [==============================] - 0s 3ms/step - loss: 0.2733 - accuracy: 0.8853 - val_loss: 0.5059 - val_accuracy: 0.8310\n",
            "Epoch 74/80\n",
            "71/71 [==============================] - 0s 3ms/step - loss: 0.2701 - accuracy: 0.8941 - val_loss: 0.2919 - val_accuracy: 0.9249\n",
            "Epoch 75/80\n",
            "71/71 [==============================] - 0s 3ms/step - loss: 0.2701 - accuracy: 0.8876 - val_loss: 0.5648 - val_accuracy: 0.8122\n",
            "Epoch 76/80\n",
            "71/71 [==============================] - 0s 3ms/step - loss: 0.2690 - accuracy: 0.8876 - val_loss: 0.2567 - val_accuracy: 0.9202\n",
            "Epoch 77/80\n",
            "71/71 [==============================] - 0s 3ms/step - loss: 0.2734 - accuracy: 0.8871 - val_loss: 0.1629 - val_accuracy: 0.9531\n",
            "Epoch 78/80\n",
            "71/71 [==============================] - 0s 3ms/step - loss: 0.2823 - accuracy: 0.8794 - val_loss: 0.2671 - val_accuracy: 0.9085\n",
            "Epoch 79/80\n",
            "71/71 [==============================] - 0s 3ms/step - loss: 0.2567 - accuracy: 0.8918 - val_loss: 0.4023 - val_accuracy: 0.8779\n",
            "Epoch 80/80\n",
            "71/71 [==============================] - 0s 3ms/step - loss: 0.2623 - accuracy: 0.8918 - val_loss: 0.2454 - val_accuracy: 0.9272\n"
          ],
          "name": "stdout"
        }
      ]
    },
    {
      "cell_type": "code",
      "metadata": {
        "id": "D00KfLN5dYor",
        "colab_type": "code",
        "outputId": "25817d64-4a03-4d95-d317-ade836e08079",
        "colab": {
          "base_uri": "https://localhost:8080/",
          "height": 573
        }
      },
      "source": [
        "# Plot training & validation accuracy values on original data\n",
        "plt.plot(hist1.history['accuracy'])\n",
        "plt.plot(hist1.history['val_accuracy'])\n",
        "plt.title('Model accuracy')\n",
        "plt.ylabel('Accuracy')\n",
        "plt.xlabel('Epoch')\n",
        "plt.legend(['Train', 'Test'], loc='upper left')\n",
        "plt.show()\n",
        "plt.figure()\n",
        "# Plot training & validation loss values\n",
        "plt.plot(hist1.history['loss'])\n",
        "plt.plot(hist1.history['val_loss'])\n",
        "plt.title('Model loss')\n",
        "plt.ylabel('Loss')\n",
        "plt.xlabel('Epoch')\n",
        "plt.legend(['Train', 'Test'], loc='upper left')\n",
        "plt.show()"
      ],
      "execution_count": 0,
      "outputs": [
        {
          "output_type": "display_data",
          "data": {
            "image/png": "[encoded data removed]",
            "text/plain": [
              "<Figure size 432x288 with 1 Axes>"
            ]
          },
          "metadata": {
            "tags": [],
            "needs_background": "light"
          }
        },
        {
          "output_type": "display_data",
          "data": {
            "image/png": "[encoded data removed]",
            "text/plain": [
              "<Figure size 432x288 with 1 Axes>"
            ]
          },
          "metadata": {
            "tags": [],
            "needs_background": "light"
          }
        }
      ]
    },
    {
      "cell_type": "code",
      "metadata": {
        "id": "wS4agpiFfrpS",
        "colab_type": "code",
        "outputId": "522f5c13-3bab-43d2-dc87-fa1daff656ff",
        "colab": {
          "base_uri": "https://localhost:8080/",
          "height": 53
        }
      },
      "source": [
        "results = densenn.evaluate(dn_xtest, y_test, batch_size=24)\n",
        "print('test loss, test acc:', results)"
      ],
      "execution_count": 0,
      "outputs": [
        {
          "output_type": "stream",
          "text": [
            "18/18 [==============================] - 0s 2ms/step - loss: 0.2734 - accuracy: 0.9085\n",
            "test loss, test acc: [0.27340543270111084, 0.908450722694397]\n"
          ],
          "name": "stdout"
        }
      ]
    },
    {
      "cell_type": "markdown",
      "metadata": {
        "id": "0AGYZfljGqvk",
        "colab_type": "text"
      },
      "source": [
        "Running the NN model a number of times to get average accuracy:"
      ]
    },
    {
      "cell_type": "code",
      "metadata": {
        "id": "wiNM1pq-D6hs",
        "colab_type": "code",
        "colab": {}
      },
      "source": [
        "# get mean\n",
        "n = 10\n",
        "plotss = []\n",
        "\n",
        "for i in range(n):\n",
        "  densenn = Sequential()\n",
        "\n",
        "  densenn.add(Dense(128))\n",
        "  densenn.add(LeakyReLU(alpha=0.3))\n",
        "\n",
        "  densenn.add(Dense(8))\n",
        "  densenn.add(LeakyReLU(alpha=0.3))\n",
        "\n",
        "  densenn.add(Dense(3, activation=\"softmax\"))\n",
        "  densenn.compile(optimizer=\"adam\", loss='sparse_categorical_crossentropy',\n",
        "                metrics=['accuracy'])\n",
        "  densenn.fit(dn_xtrain, y_train, batch_size=24, epochs=80,\n",
        "                    kernel_regularizer=regularizers.l2(0.0001))\n",
        "  plotss.append(densenn.evaluate(dn_xtest, y_test, batch_size=24)[1])\n"
      ],
      "execution_count": 0,
      "outputs": []
    },
    {
      "cell_type": "code",
      "metadata": {
        "id": "-cnrOz1FMXvC",
        "colab_type": "code",
        "outputId": "67ec2ab3-dd26-45a5-f5d2-6b3dd701a4a8",
        "colab": {
          "base_uri": "https://localhost:8080/",
          "height": 283
        }
      },
      "source": [
        "plt.plot(plotss)\n",
        "plt.plot([np.mean(plotss) for i in range(n)])\n",
        "plt.legend([\"Test Acc\", \"Mean Acc\"])"
      ],
      "execution_count": 0,
      "outputs": [
        {
          "output_type": "execute_result",
          "data": {
            "text/plain": [
              "<matplotlib.legend.Legend at 0x7f14e10e1dd8>"
            ]
          },
          "metadata": {
            "tags": []
          },
          "execution_count": 173
        },
        {
          "output_type": "display_data",
          "data": {
            "image/png": "[encoded data removed]",
            "text/plain": [
              "<Figure size 432x288 with 1 Axes>"
            ]
          },
          "metadata": {
            "tags": [],
            "needs_background": "light"
          }
        }
      ]
    },
    {
      "cell_type": "markdown",
      "metadata": {
        "id": "f5NGqb_lNNXM",
        "colab_type": "text"
      },
      "source": [
        "# Feature space reshaped CNN:"
      ]
    },
    {
      "cell_type": "code",
      "metadata": {
        "id": "R90q7xrwpYeC",
        "colab_type": "code",
        "colab": {}
      },
      "source": [
        "re_xtrain = []\n",
        "re_xtest = []\n",
        "ox, oy = 3, 7\n",
        "scale = 4\n",
        "x, y = ox*scale, oy*scale\n",
        "\n",
        "for i in dn_xtrain:\n",
        "  img = i.reshape((ox,oy))\n",
        "  re_xtrain.append(cv2.resize(img, (x, y), interpolation = cv2.INTER_AREA))\n",
        "\n",
        "for i in dn_xtest:\n",
        "  img = i.reshape((ox,oy))\n",
        "  re_xtest.append(cv2.resize(img, (x, y), interpolation = cv2.INTER_AREA))\n",
        "\n",
        "re_xtrain = np.array(re_xtrain)\n",
        "re_xtest = np.array(re_xtest)"
      ],
      "execution_count": 0,
      "outputs": []
    },
    {
      "cell_type": "code",
      "metadata": {
        "id": "HwJd7QKFNUby",
        "colab_type": "code",
        "colab": {}
      },
      "source": [
        "fscnn = Sequential()\n",
        "\n",
        "fscnn.add(Reshape((1, x, y)))\n",
        "\n",
        "fscnn.add(Conv2D(32, (2,2), padding='same', name=\"conv1-1\"))\n",
        "fscnn.add(Conv2D(32, (2,2), padding='same', name=\"conv1-2\"))\n",
        "fscnn.add(Dropout(0.1))\n",
        "fscnn.add(Conv2D(64, (2,2), padding='same', name=\"conv1-3\"))\n",
        "fscnn.add(LeakyReLU(alpha=0.3))\n",
        "\n",
        "fscnn.add(Flatten())\n",
        "\n",
        "fscnn.add(Dense(8))\n",
        "fscnn.add(LeakyReLU(alpha=0.3))\n",
        "\n",
        "fscnn.add(Dense(3, activation=\"softmax\"))"
      ],
      "execution_count": 0,
      "outputs": []
    },
    {
      "cell_type": "code",
      "metadata": {
        "id": "1SU1Kor2sNvB",
        "colab_type": "code",
        "outputId": "c46f9588-6e1a-4c82-c03f-8dccfa4e9ccc",
        "colab": {
          "base_uri": "https://localhost:8080/",
          "height": 1000
        }
      },
      "source": [
        "fscnn.compile(optimizer=\"adam\", loss='sparse_categorical_crossentropy',  \n",
        "                metrics=['accuracy'])\n",
        "hist3 = fscnn.fit(re_xtrain, y_train, batch_size=32, epochs=60, \n",
        "                       validation_data=(re_xtest, y_test))"
      ],
      "execution_count": 0,
      "outputs": [
        {
          "output_type": "stream",
          "text": [
            "Epoch 1/60\n",
            "54/54 [==============================] - 0s 5ms/step - loss: 0.6935 - accuracy: 0.7565 - val_loss: 0.8084 - val_accuracy: 0.7981\n",
            "Epoch 2/60\n",
            "54/54 [==============================] - 0s 4ms/step - loss: 0.6396 - accuracy: 0.7735 - val_loss: 0.8033 - val_accuracy: 0.7981\n",
            "Epoch 3/60\n",
            "54/54 [==============================] - 0s 3ms/step - loss: 0.6062 - accuracy: 0.7771 - val_loss: 0.9573 - val_accuracy: 0.7089\n",
            "Epoch 4/60\n",
            "54/54 [==============================] - 0s 3ms/step - loss: 0.5321 - accuracy: 0.8041 - val_loss: 0.7918 - val_accuracy: 0.7676\n",
            "Epoch 5/60\n",
            "54/54 [==============================] - 0s 3ms/step - loss: 0.4743 - accuracy: 0.8206 - val_loss: 0.6620 - val_accuracy: 0.7324\n",
            "Epoch 6/60\n",
            "54/54 [==============================] - 0s 3ms/step - loss: 0.4276 - accuracy: 0.8365 - val_loss: 0.6089 - val_accuracy: 0.7746\n",
            "Epoch 7/60\n",
            "54/54 [==============================] - 0s 4ms/step - loss: 0.3866 - accuracy: 0.8482 - val_loss: 0.7476 - val_accuracy: 0.7371\n",
            "Epoch 8/60\n",
            "54/54 [==============================] - 0s 4ms/step - loss: 0.3730 - accuracy: 0.8571 - val_loss: 0.6083 - val_accuracy: 0.8005\n",
            "Epoch 9/60\n",
            "54/54 [==============================] - 0s 3ms/step - loss: 0.3809 - accuracy: 0.8553 - val_loss: 0.7473 - val_accuracy: 0.7958\n",
            "Epoch 10/60\n",
            "54/54 [==============================] - 0s 3ms/step - loss: 0.3501 - accuracy: 0.8712 - val_loss: 0.5535 - val_accuracy: 0.8263\n",
            "Epoch 11/60\n",
            "54/54 [==============================] - 0s 3ms/step - loss: 0.3377 - accuracy: 0.8718 - val_loss: 0.4441 - val_accuracy: 0.8028\n",
            "Epoch 12/60\n",
            "54/54 [==============================] - 0s 3ms/step - loss: 0.3638 - accuracy: 0.8629 - val_loss: 0.6806 - val_accuracy: 0.7840\n",
            "Epoch 13/60\n",
            "54/54 [==============================] - 0s 4ms/step - loss: 0.3327 - accuracy: 0.8706 - val_loss: 0.4594 - val_accuracy: 0.8380\n",
            "Epoch 14/60\n",
            "54/54 [==============================] - 0s 3ms/step - loss: 0.3384 - accuracy: 0.8665 - val_loss: 0.3863 - val_accuracy: 0.8592\n",
            "Epoch 15/60\n",
            "54/54 [==============================] - 0s 3ms/step - loss: 0.3204 - accuracy: 0.8741 - val_loss: 0.7827 - val_accuracy: 0.7324\n",
            "Epoch 16/60\n",
            "54/54 [==============================] - 0s 3ms/step - loss: 0.3349 - accuracy: 0.8729 - val_loss: 0.5320 - val_accuracy: 0.8286\n",
            "Epoch 17/60\n",
            "54/54 [==============================] - 0s 4ms/step - loss: 0.3182 - accuracy: 0.8824 - val_loss: 0.5196 - val_accuracy: 0.8310\n",
            "Epoch 18/60\n",
            "54/54 [==============================] - 0s 4ms/step - loss: 0.3123 - accuracy: 0.8729 - val_loss: 0.5080 - val_accuracy: 0.8192\n",
            "Epoch 19/60\n",
            "54/54 [==============================] - 0s 3ms/step - loss: 0.3166 - accuracy: 0.8665 - val_loss: 0.4071 - val_accuracy: 0.8521\n",
            "Epoch 20/60\n",
            "54/54 [==============================] - 0s 3ms/step - loss: 0.3287 - accuracy: 0.8771 - val_loss: 0.5677 - val_accuracy: 0.8192\n",
            "Epoch 21/60\n",
            "54/54 [==============================] - 0s 3ms/step - loss: 0.3173 - accuracy: 0.8771 - val_loss: 0.5023 - val_accuracy: 0.8310\n",
            "Epoch 22/60\n",
            "54/54 [==============================] - 0s 3ms/step - loss: 0.3224 - accuracy: 0.8741 - val_loss: 0.7823 - val_accuracy: 0.7441\n",
            "Epoch 23/60\n",
            "54/54 [==============================] - 0s 3ms/step - loss: 0.3206 - accuracy: 0.8818 - val_loss: 0.4697 - val_accuracy: 0.8404\n",
            "Epoch 24/60\n",
            "54/54 [==============================] - 0s 3ms/step - loss: 0.3290 - accuracy: 0.8694 - val_loss: 0.3369 - val_accuracy: 0.8709\n",
            "Epoch 25/60\n",
            "54/54 [==============================] - 0s 3ms/step - loss: 0.3132 - accuracy: 0.8759 - val_loss: 0.4851 - val_accuracy: 0.8310\n",
            "Epoch 26/60\n",
            "54/54 [==============================] - 0s 4ms/step - loss: 0.3207 - accuracy: 0.8747 - val_loss: 0.4460 - val_accuracy: 0.8521\n",
            "Epoch 27/60\n",
            "54/54 [==============================] - 0s 3ms/step - loss: 0.3372 - accuracy: 0.8694 - val_loss: 0.4539 - val_accuracy: 0.8216\n",
            "Epoch 28/60\n",
            "54/54 [==============================] - 0s 4ms/step - loss: 0.3089 - accuracy: 0.8812 - val_loss: 0.5070 - val_accuracy: 0.8310\n",
            "Epoch 29/60\n",
            "54/54 [==============================] - 0s 4ms/step - loss: 0.3155 - accuracy: 0.8818 - val_loss: 0.3921 - val_accuracy: 0.9085\n",
            "Epoch 30/60\n",
            "54/54 [==============================] - 0s 3ms/step - loss: 0.3076 - accuracy: 0.8759 - val_loss: 0.5634 - val_accuracy: 0.8310\n",
            "Epoch 31/60\n",
            "54/54 [==============================] - 0s 3ms/step - loss: 0.2987 - accuracy: 0.8812 - val_loss: 0.3993 - val_accuracy: 0.8685\n",
            "Epoch 32/60\n",
            "54/54 [==============================] - 0s 3ms/step - loss: 0.3159 - accuracy: 0.8706 - val_loss: 0.4795 - val_accuracy: 0.8427\n",
            "Epoch 33/60\n",
            "54/54 [==============================] - 0s 3ms/step - loss: 0.2927 - accuracy: 0.8818 - val_loss: 0.4220 - val_accuracy: 0.9014\n",
            "Epoch 34/60\n",
            "54/54 [==============================] - 0s 4ms/step - loss: 0.2926 - accuracy: 0.8876 - val_loss: 0.3378 - val_accuracy: 0.9014\n",
            "Epoch 35/60\n",
            "54/54 [==============================] - 0s 3ms/step - loss: 0.2988 - accuracy: 0.8812 - val_loss: 0.2890 - val_accuracy: 0.8873\n",
            "Epoch 36/60\n",
            "54/54 [==============================] - 0s 4ms/step - loss: 0.2937 - accuracy: 0.8841 - val_loss: 0.3087 - val_accuracy: 0.8850\n",
            "Epoch 37/60\n",
            "54/54 [==============================] - 0s 3ms/step - loss: 0.3033 - accuracy: 0.8853 - val_loss: 0.2745 - val_accuracy: 0.9038\n",
            "Epoch 38/60\n",
            "54/54 [==============================] - 0s 3ms/step - loss: 0.3006 - accuracy: 0.8800 - val_loss: 0.4464 - val_accuracy: 0.8991\n",
            "Epoch 39/60\n",
            "54/54 [==============================] - 0s 4ms/step - loss: 0.3207 - accuracy: 0.8747 - val_loss: 0.5396 - val_accuracy: 0.8169\n",
            "Epoch 40/60\n",
            "54/54 [==============================] - 0s 3ms/step - loss: 0.3007 - accuracy: 0.8818 - val_loss: 0.3820 - val_accuracy: 0.9178\n",
            "Epoch 41/60\n",
            "54/54 [==============================] - 0s 3ms/step - loss: 0.2867 - accuracy: 0.8841 - val_loss: 0.4097 - val_accuracy: 0.8685\n",
            "Epoch 42/60\n",
            "54/54 [==============================] - 0s 3ms/step - loss: 0.2923 - accuracy: 0.8882 - val_loss: 0.3165 - val_accuracy: 0.8944\n",
            "Epoch 43/60\n",
            "54/54 [==============================] - 0s 3ms/step - loss: 0.2837 - accuracy: 0.8882 - val_loss: 0.4620 - val_accuracy: 0.8521\n",
            "Epoch 44/60\n",
            "54/54 [==============================] - 0s 4ms/step - loss: 0.2879 - accuracy: 0.8865 - val_loss: 0.3901 - val_accuracy: 0.8873\n",
            "Epoch 45/60\n",
            "54/54 [==============================] - 0s 4ms/step - loss: 0.2889 - accuracy: 0.8853 - val_loss: 0.3649 - val_accuracy: 0.8826\n",
            "Epoch 46/60\n",
            "54/54 [==============================] - 0s 3ms/step - loss: 0.2926 - accuracy: 0.8894 - val_loss: 0.3576 - val_accuracy: 0.8779\n",
            "Epoch 47/60\n",
            "54/54 [==============================] - 0s 3ms/step - loss: 0.2957 - accuracy: 0.8847 - val_loss: 0.4817 - val_accuracy: 0.8592\n",
            "Epoch 48/60\n",
            "54/54 [==============================] - 0s 3ms/step - loss: 0.2812 - accuracy: 0.8835 - val_loss: 0.3663 - val_accuracy: 0.9085\n",
            "Epoch 49/60\n",
            "54/54 [==============================] - 0s 4ms/step - loss: 0.2887 - accuracy: 0.8865 - val_loss: 0.3964 - val_accuracy: 0.8756\n",
            "Epoch 50/60\n",
            "54/54 [==============================] - 0s 3ms/step - loss: 0.2946 - accuracy: 0.8853 - val_loss: 0.3408 - val_accuracy: 0.9202\n",
            "Epoch 51/60\n",
            "54/54 [==============================] - 0s 3ms/step - loss: 0.2989 - accuracy: 0.8871 - val_loss: 0.5902 - val_accuracy: 0.8357\n",
            "Epoch 52/60\n",
            "54/54 [==============================] - 0s 3ms/step - loss: 0.3168 - accuracy: 0.8718 - val_loss: 0.3304 - val_accuracy: 0.9249\n",
            "Epoch 53/60\n",
            "54/54 [==============================] - 0s 3ms/step - loss: 0.2854 - accuracy: 0.8847 - val_loss: 0.5104 - val_accuracy: 0.8474\n",
            "Epoch 54/60\n",
            "54/54 [==============================] - 0s 4ms/step - loss: 0.2793 - accuracy: 0.8888 - val_loss: 0.3835 - val_accuracy: 0.8732\n",
            "Epoch 55/60\n",
            "54/54 [==============================] - 0s 4ms/step - loss: 0.2799 - accuracy: 0.8888 - val_loss: 0.5088 - val_accuracy: 0.8592\n",
            "Epoch 56/60\n",
            "54/54 [==============================] - 0s 3ms/step - loss: 0.2816 - accuracy: 0.8912 - val_loss: 0.6767 - val_accuracy: 0.7887\n",
            "Epoch 57/60\n",
            "54/54 [==============================] - 0s 3ms/step - loss: 0.2795 - accuracy: 0.8835 - val_loss: 0.3109 - val_accuracy: 0.8850\n",
            "Epoch 58/60\n",
            "54/54 [==============================] - 0s 3ms/step - loss: 0.2845 - accuracy: 0.8876 - val_loss: 0.3661 - val_accuracy: 0.9155\n",
            "Epoch 59/60\n",
            "54/54 [==============================] - 0s 3ms/step - loss: 0.2841 - accuracy: 0.8829 - val_loss: 0.5258 - val_accuracy: 0.8592\n",
            "Epoch 60/60\n",
            "54/54 [==============================] - 0s 4ms/step - loss: 0.2883 - accuracy: 0.8824 - val_loss: 0.3764 - val_accuracy: 0.9202\n"
          ],
          "name": "stdout"
        }
      ]
    },
    {
      "cell_type": "code",
      "metadata": {
        "id": "j0EpMM87sbxS",
        "colab_type": "code",
        "outputId": "6c143241-3ae5-4f10-862b-405ed49329c5",
        "colab": {
          "base_uri": "https://localhost:8080/",
          "height": 573
        }
      },
      "source": [
        "# Plot training & validation accuracy values\n",
        "plt.plot(hist3.history['accuracy'])\n",
        "plt.plot(hist3.history['val_accuracy'])\n",
        "plt.title('Model accuracy')\n",
        "plt.ylabel('Accuracy')\n",
        "plt.xlabel('Epoch')\n",
        "plt.legend(['Train', 'Test'], loc='upper left')\n",
        "plt.show()\n",
        "plt.figure()\n",
        "# Plot training & validation loss values\n",
        "plt.plot(hist3.history['loss'])\n",
        "plt.plot(hist3.history['val_loss'])\n",
        "plt.title('Model loss')\n",
        "plt.ylabel('Loss')\n",
        "plt.xlabel('Epoch')\n",
        "plt.legend(['Train', 'Test'], loc='upper left')\n",
        "plt.show()"
      ],
      "execution_count": 0,
      "outputs": [
        {
          "output_type": "display_data",
          "data": {
            "image/png": "[encoded data removed]",
            "text/plain": [
              "<Figure size 432x288 with 1 Axes>"
            ]
          },
          "metadata": {
            "tags": [],
            "needs_background": "light"
          }
        },
        {
          "output_type": "display_data",
          "data": {
            "image/png": "[encoded data removed]",
            "text/plain": [
              "<Figure size 432x288 with 1 Axes>"
            ]
          },
          "metadata": {
            "tags": [],
            "needs_background": "light"
          }
        }
      ]
    },
    {
      "cell_type": "code",
      "metadata": {
        "id": "PeKr99hZvrGL",
        "colab_type": "code",
        "outputId": "178fc7ac-abe4-4427-f089-aaa3e8acf841",
        "colab": {
          "base_uri": "https://localhost:8080/",
          "height": 53
        }
      },
      "source": [
        "results = fscnn.evaluate(re_xtest, y_test, batch_size=32)\n",
        "print('test loss, test acc:', results)"
      ],
      "execution_count": 0,
      "outputs": [
        {
          "output_type": "stream",
          "text": [
            "14/14 [==============================] - 0s 2ms/step - loss: 0.3764 - accuracy: 0.9202\n",
            "test loss, test acc: [0.37635383009910583, 0.920187771320343]\n"
          ],
          "name": "stdout"
        }
      ]
    },
    {
      "cell_type": "markdown",
      "metadata": {
        "id": "2E7uwgnrFpG_",
        "colab_type": "text"
      },
      "source": [
        "Include more performance metrics, \"Sensitivity (TPR), specificity(SPC), accuracy(ACC),and  selectivity(SPE)\""
      ]
    },
    {
      "cell_type": "markdown",
      "metadata": {
        "id": "Ha_X30F3F0Kk",
        "colab_type": "text"
      },
      "source": [
        ""
      ]
    }
  ]
}
